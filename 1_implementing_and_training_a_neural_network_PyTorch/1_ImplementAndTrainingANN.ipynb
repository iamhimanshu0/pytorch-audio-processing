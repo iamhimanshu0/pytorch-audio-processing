{
  "cells": [
    {
      "cell_type": "code",
      "execution_count": null,
      "metadata": {
        "id": "HeYK3SNl8xXL"
      },
      "outputs": [],
      "source": [
        "# !pip install torch torchaudio torchvision"
      ]
    },
    {
      "cell_type": "code",
      "execution_count": 3,
      "metadata": {
        "id": "MrYp4xdd89BY"
      },
      "outputs": [],
      "source": [
        "import torch \n",
        "from torch import nn\n",
        "from torch.utils.data import DataLoader\n",
        "from torchvision import datasets\n",
        "from torchvision.transforms import ToTensor"
      ]
    },
    {
      "cell_type": "markdown",
      "metadata": {
        "id": "xQckQCyJ9jWV"
      },
      "source": [
        "### 1 .Download Dataset\n",
        "### 2 .Create Data Loader\n",
        "### 3 .Build Model\n",
        "### 4 .Train\n",
        "### 5 .Save Train Model"
      ]
    },
    {
      "cell_type": "code",
      "execution_count": 4,
      "metadata": {
        "id": "rEGYC8ND9HAa"
      },
      "outputs": [],
      "source": [
        "# Downlaod data\n",
        "def download_mnist_datasets():\n",
        "  train_data = datasets.MNIST(\n",
        "      root='data',\n",
        "      download = True,\n",
        "      train= True,\n",
        "      transform = ToTensor()\n",
        "  )\n",
        "\n",
        "  validation_data = datasets.MNIST(\n",
        "      root='data',\n",
        "      download = True,\n",
        "      train= False,\n",
        "      transform = ToTensor()\n",
        "  )\n",
        "\n",
        "  return train_data, validation_data\n",
        "  "
      ]
    },
    {
      "cell_type": "code",
      "execution_count": null,
      "metadata": {
        "id": "hEgWALuJ9G8l"
      },
      "outputs": [],
      "source": [
        "# download dataset\n",
        "train_data, _ = download_mnist_datasets()\n",
        "print(\"Dataset downloaded\")"
      ]
    },
    {
      "cell_type": "code",
      "execution_count": 6,
      "metadata": {
        "id": "6niuL3We9G4a"
      },
      "outputs": [],
      "source": [
        "# create a dataloader (class used to wrap a dataset\n",
        "                        # it's allows to load data into batches\n",
        "                      #)\n",
        "\n",
        "# for train \n",
        "BATCH_SIZE = 128\n",
        "train_data_loader = DataLoader(train_data,\n",
        "                               batch_size = BATCH_SIZE)\n",
        "\n"
      ]
    },
    {
      "cell_type": "code",
      "execution_count": 7,
      "metadata": {
        "id": "S5tAZ17t9G2D"
      },
      "outputs": [],
      "source": [
        "# Build the model\n",
        "class FeedForwardNet(nn.Module):\n",
        "  \n",
        "  def __init__(self):\n",
        "    super().__init__()\n",
        "    \n",
        "    self.flatten = nn.Flatten()\n",
        "    self.dense_layers = nn.Sequential(\n",
        "        nn.Linear(28*28, 256),\n",
        "        nn.ReLU(),\n",
        "        nn.Linear(256, 10)\n",
        "    )\n",
        "    self.softmax = nn.Softmax(dim=1)\n",
        "\n",
        "  def forward(self,input_data):\n",
        "    \n",
        "    flattened_data = self.flatten(input_data)\n",
        "    logits = self.dense_layers(flattened_data)\n",
        "    predictions = self.softmax(logits)\n",
        "    return logits  \n"
      ]
    },
    {
      "cell_type": "code",
      "execution_count": 8,
      "metadata": {
        "colab": {
          "base_uri": "https://localhost:8080/"
        },
        "id": "poKz0MdTFDTG",
        "outputId": "bec93ad2-d2ed-4036-963b-d0460e06d45b"
      },
      "outputs": [
        {
          "name": "stdout",
          "output_type": "stream",
          "text": [
            "using device cuda\n"
          ]
        }
      ],
      "source": [
        "if torch.cuda.is_available():\n",
        "  device = 'cuda'\n",
        "else:\n",
        "  device = 'cpu'\n",
        "\n",
        "print(f\"using device {device}\")"
      ]
    },
    {
      "cell_type": "code",
      "execution_count": 9,
      "metadata": {
        "id": "ssWtbWGr9GzX"
      },
      "outputs": [],
      "source": [
        "# build the model\n",
        "feed_forward_net = FeedForwardNet().to(device)"
      ]
    },
    {
      "cell_type": "code",
      "execution_count": 10,
      "metadata": {
        "id": "gUmRIU8T9Gvu"
      },
      "outputs": [],
      "source": [
        "# train to model\n",
        "def train_one_epoch(model, data_loader, loss_fn, optimiser, device):\n",
        "  for inputs, targets in data_loader:\n",
        "    inputs, targets = inputs.to(device), targets.to(device)\n",
        "    \n",
        "    # calculate loss\n",
        "    predictions = model(inputs)\n",
        "    loss = loss_fn(predictions, targets)\n",
        "\n",
        "    # backpropagate loss and update weights\n",
        "    optimiser.zero_grad()\n",
        "    loss.backward()\n",
        "    optimiser.step()\n",
        "  \n",
        "  print(f\"Loss : {loss.item()}\")\n"
      ]
    },
    {
      "cell_type": "code",
      "execution_count": 12,
      "metadata": {
        "id": "OwOJpP2x9GtL"
      },
      "outputs": [],
      "source": [
        "def train(model, data_loader, loss_fn, optimiser, device, epochs):\n",
        "  for i in range(epochs):\n",
        "    print(f\"Epoch {i+1}\")\n",
        "    train_one_epoch(model, data_loader, loss_fn, optimiser, device)\n",
        "    print(\"---------------------------\")\n",
        "  \n",
        "  print(\"Training is Done!\")"
      ]
    },
    {
      "cell_type": "code",
      "execution_count": 13,
      "metadata": {
        "id": "U4KrFZjdIy52"
      },
      "outputs": [],
      "source": [
        "# loss fun + optimizer\n",
        "LEARNING_RATE = .001\n",
        "\n",
        "loss_fn = nn.CrossEntropyLoss()\n",
        "optimiser = torch.optim.Adam(\n",
        "    feed_forward_net.parameters(),\n",
        "    lr=LEARNING_RATE\n",
        ")"
      ]
    },
    {
      "cell_type": "code",
      "execution_count": 14,
      "metadata": {
        "colab": {
          "base_uri": "https://localhost:8080/"
        },
        "id": "k2jHUVJK9Gqm",
        "outputId": "09b22df6-034b-45b0-d4eb-1beb4777c65e"
      },
      "outputs": [
        {
          "name": "stdout",
          "output_type": "stream",
          "text": [
            "Epoch 1\n",
            "Loss : 0.2623773515224457\n",
            "---------------------------\n",
            "Epoch 2\n",
            "Loss : 0.21965976059436798\n",
            "---------------------------\n",
            "Epoch 3\n",
            "Loss : 0.1884404420852661\n",
            "---------------------------\n",
            "Epoch 4\n",
            "Loss : 0.1649537831544876\n",
            "---------------------------\n",
            "Epoch 5\n",
            "Loss : 0.13509759306907654\n",
            "---------------------------\n",
            "Epoch 6\n",
            "Loss : 0.11058839410543442\n",
            "---------------------------\n",
            "Epoch 7\n",
            "Loss : 0.08938881009817123\n",
            "---------------------------\n",
            "Epoch 8\n",
            "Loss : 0.0700596496462822\n",
            "---------------------------\n",
            "Epoch 9\n",
            "Loss : 0.04868432506918907\n",
            "---------------------------\n",
            "Epoch 10\n",
            "Loss : 0.0280377846211195\n",
            "---------------------------\n",
            "Training is Done!\n"
          ]
        }
      ],
      "source": [
        "# train the model\n",
        "EPOCHS = 10\n",
        "train(feed_forward_net, train_data_loader, loss_fn, optimiser, device, EPOCHS)"
      ]
    },
    {
      "cell_type": "code",
      "execution_count": 15,
      "metadata": {
        "colab": {
          "base_uri": "https://localhost:8080/"
        },
        "id": "aaQhN7Lk9GoH",
        "outputId": "1d464e54-2ecb-4418-e680-c865eac74dd5"
      },
      "outputs": [
        {
          "name": "stdout",
          "output_type": "stream",
          "text": [
            "Model saved\n"
          ]
        }
      ],
      "source": [
        "# save the model\n",
        "torch.save(feed_forward_net.state_dict(), \n",
        "           \"feedforwardnet.pth\")\n",
        "print(\"Model saved\")"
      ]
    },
    {
      "cell_type": "code",
      "execution_count": null,
      "metadata": {
        "id": "zQE8iNSi9Gkw"
      },
      "outputs": [],
      "source": []
    },
    {
      "cell_type": "code",
      "execution_count": null,
      "metadata": {
        "id": "04fb5rxl9GiI"
      },
      "outputs": [],
      "source": []
    },
    {
      "cell_type": "code",
      "execution_count": null,
      "metadata": {
        "id": "yJoVc6tD9GfS"
      },
      "outputs": [],
      "source": []
    }
  ],
  "metadata": {
    "accelerator": "GPU",
    "colab": {
      "name": "ImplementAndTrainingANN.ipynb",
      "provenance": []
    },
    "kernelspec": {
      "display_name": "Python 3",
      "name": "python3"
    },
    "language_info": {
      "name": "python"
    }
  },
  "nbformat": 4,
  "nbformat_minor": 0
}
